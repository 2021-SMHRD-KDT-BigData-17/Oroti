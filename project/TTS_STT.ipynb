{
  "cells": [
    {
      "cell_type": "code",
      "execution_count": null,
      "metadata": {
        "colab": {
          "base_uri": "https://localhost:8080/"
        },
        "id": "8MUOPbguHw84",
        "outputId": "b000900c-bdf7-4fc5-b88c-6c294454a19f"
      },
      "outputs": [
        {
          "output_type": "stream",
          "name": "stdout",
          "text": [
            "Looking in indexes: https://pypi.org/simple, https://us-python.pkg.dev/colab-wheels/public/simple/\n",
            "Collecting speechrecognition\n",
            "  Downloading SpeechRecognition-3.10.0-py2.py3-none-any.whl (32.8 MB)\n",
            "\u001b[2K     \u001b[90m━━━━━━━━━━━━━━━━━━━━━━━━━━━━━━━━━━━━━━━━\u001b[0m \u001b[32m32.8/32.8 MB\u001b[0m \u001b[31m54.5 MB/s\u001b[0m eta \u001b[36m0:00:00\u001b[0m\n",
            "\u001b[?25hRequirement already satisfied: requests>=2.26.0 in /usr/local/lib/python3.10/dist-packages (from speechrecognition) (2.27.1)\n",
            "Requirement already satisfied: urllib3<1.27,>=1.21.1 in /usr/local/lib/python3.10/dist-packages (from requests>=2.26.0->speechrecognition) (1.26.15)\n",
            "Requirement already satisfied: certifi>=2017.4.17 in /usr/local/lib/python3.10/dist-packages (from requests>=2.26.0->speechrecognition) (2022.12.7)\n",
            "Requirement already satisfied: charset-normalizer~=2.0.0 in /usr/local/lib/python3.10/dist-packages (from requests>=2.26.0->speechrecognition) (2.0.12)\n",
            "Requirement already satisfied: idna<4,>=2.5 in /usr/local/lib/python3.10/dist-packages (from requests>=2.26.0->speechrecognition) (3.4)\n",
            "Installing collected packages: speechrecognition\n",
            "Successfully installed speechrecognition-3.10.0\n"
          ]
        }
      ],
      "source": [
        "%pip install speechrecognition"
      ]
    },
    {
      "cell_type": "code",
      "execution_count": null,
      "metadata": {
        "colab": {
          "base_uri": "https://localhost:8080/"
        },
        "id": "pFkVQ48iIHUs",
        "outputId": "a4402626-fb48-4251-d831-01893948e421"
      },
      "outputs": [
        {
          "output_type": "stream",
          "name": "stdout",
          "text": [
            "Looking in indexes: https://pypi.org/simple, https://us-python.pkg.dev/colab-wheels/public/simple/\n",
            "Collecting gTTs\n",
            "  Downloading gTTS-2.3.2-py3-none-any.whl (28 kB)\n",
            "Requirement already satisfied: requests<3,>=2.27 in /usr/local/lib/python3.10/dist-packages (from gTTs) (2.27.1)\n",
            "Requirement already satisfied: click<8.2,>=7.1 in /usr/local/lib/python3.10/dist-packages (from gTTs) (8.1.3)\n",
            "Requirement already satisfied: urllib3<1.27,>=1.21.1 in /usr/local/lib/python3.10/dist-packages (from requests<3,>=2.27->gTTs) (1.26.15)\n",
            "Requirement already satisfied: certifi>=2017.4.17 in /usr/local/lib/python3.10/dist-packages (from requests<3,>=2.27->gTTs) (2022.12.7)\n",
            "Requirement already satisfied: charset-normalizer~=2.0.0 in /usr/local/lib/python3.10/dist-packages (from requests<3,>=2.27->gTTs) (2.0.12)\n",
            "Requirement already satisfied: idna<4,>=2.5 in /usr/local/lib/python3.10/dist-packages (from requests<3,>=2.27->gTTs) (3.4)\n",
            "Installing collected packages: gTTs\n",
            "Successfully installed gTTs-2.3.2\n"
          ]
        }
      ],
      "source": [
        "%pip install gTTs"
      ]
    },
    {
      "cell_type": "code",
      "execution_count": null,
      "metadata": {
        "colab": {
          "base_uri": "https://localhost:8080/"
        },
        "id": "NrsmVMn2IHR8",
        "outputId": "aabc3bd6-59a1-4c20-ece2-173437e75010"
      },
      "outputs": [
        {
          "output_type": "stream",
          "name": "stdout",
          "text": [
            "Looking in indexes: https://pypi.org/simple, https://us-python.pkg.dev/colab-wheels/public/simple/\n",
            "Collecting playsound\n",
            "  Downloading playsound-1.3.0.tar.gz (7.7 kB)\n",
            "  Preparing metadata (setup.py) ... \u001b[?25l\u001b[?25hdone\n",
            "Building wheels for collected packages: playsound\n",
            "  Building wheel for playsound (setup.py) ... \u001b[?25l\u001b[?25hdone\n",
            "  Created wheel for playsound: filename=playsound-1.3.0-py3-none-any.whl size=7019 sha256=8799a1e3fb8b1861dcc884d377380583a3b43736abab9068c3f96390e1afb25a\n",
            "  Stored in directory: /root/.cache/pip/wheels/90/89/ed/2d643f4226fc8c7c9156fc28abd8051e2d2c0de37ae51ac45c\n",
            "Successfully built playsound\n",
            "Installing collected packages: playsound\n",
            "Successfully installed playsound-1.3.0\n"
          ]
        }
      ],
      "source": [
        "%pip install playsound"
      ]
    },
    {
      "cell_type": "code",
      "source": [
        "!pip install pygobject"
      ],
      "metadata": {
        "colab": {
          "base_uri": "https://localhost:8080/"
        },
        "id": "SN4oYq5iVGnE",
        "outputId": "7cc9c3d2-656d-44e1-855c-8a266ddc0334"
      },
      "execution_count": null,
      "outputs": [
        {
          "output_type": "stream",
          "name": "stdout",
          "text": [
            "Looking in indexes: https://pypi.org/simple, https://us-python.pkg.dev/colab-wheels/public/simple/\n",
            "Requirement already satisfied: pygobject in /usr/lib/python3/dist-packages (3.36.0)\n",
            "Collecting pycairo>=1.11.1 (from pygobject)\n",
            "  Downloading pycairo-1.23.0.tar.gz (344 kB)\n",
            "\u001b[2K     \u001b[90m━━━━━━━━━━━━━━━━━━━━━━━━━━━━━━━━━━━━━━\u001b[0m \u001b[32m344.6/344.6 kB\u001b[0m \u001b[31m27.1 MB/s\u001b[0m eta \u001b[36m0:00:00\u001b[0m\n",
            "\u001b[?25h  Installing build dependencies ... \u001b[?25l\u001b[?25hdone\n",
            "  Getting requirements to build wheel ... \u001b[?25l\u001b[?25hdone\n",
            "  Installing backend dependencies ... \u001b[?25l\u001b[?25hdone\n",
            "  Preparing metadata (pyproject.toml) ... \u001b[?25l\u001b[?25hdone\n",
            "Building wheels for collected packages: pycairo\n",
            "  \u001b[1;31merror\u001b[0m: \u001b[1msubprocess-exited-with-error\u001b[0m\n",
            "  \n",
            "  \u001b[31m×\u001b[0m \u001b[32mBuilding wheel for pycairo \u001b[0m\u001b[1;32m(\u001b[0m\u001b[32mpyproject.toml\u001b[0m\u001b[1;32m)\u001b[0m did not run successfully.\n",
            "  \u001b[31m│\u001b[0m exit code: \u001b[1;36m1\u001b[0m\n",
            "  \u001b[31m╰─>\u001b[0m See above for output.\n",
            "  \n",
            "  \u001b[1;35mnote\u001b[0m: This error originates from a subprocess, and is likely not a problem with pip.\n",
            "  Building wheel for pycairo (pyproject.toml) ... \u001b[?25l\u001b[?25herror\n",
            "\u001b[31m  ERROR: Failed building wheel for pycairo\u001b[0m\u001b[31m\n",
            "\u001b[0mFailed to build pycairo\n",
            "\u001b[31mERROR: Could not build wheels for pycairo, which is required to install pyproject.toml-based projects\u001b[0m\u001b[31m\n",
            "\u001b[0m"
          ]
        }
      ]
    },
    {
      "cell_type": "markdown",
      "metadata": {
        "id": "fJ7A5jJXOJrO"
      },
      "source": [
        "## TTS"
      ]
    },
    {
      "cell_type": "code",
      "execution_count": null,
      "metadata": {
        "id": "XZCsEO-KIHPN",
        "colab": {
          "base_uri": "https://localhost:8080/"
        },
        "outputId": "4f797f45-39ef-480d-802c-daad1fc2ed6a"
      },
      "outputs": [
        {
          "output_type": "stream",
          "name": "stderr",
          "text": [
            "WARNING:playsound:playsound is relying on another python subprocess. Please use `pip install pygobject` if you want playsound to run more efficiently.\n"
          ]
        }
      ],
      "source": [
        "import speech_recognition as sr\n",
        "\n",
        "from gtts import gTTS\n",
        "\n",
        "import os\n",
        "\n",
        "import time\n",
        "\n",
        "import playsound"
      ]
    },
    {
      "cell_type": "code",
      "execution_count": null,
      "metadata": {
        "id": "OWbKZtT7IZX7"
      },
      "outputs": [],
      "source": [
        "def speak(text):\n",
        "\n",
        "     tts = gTTS(text=text, lang='ko')\n",
        "\n",
        "     filename='/content/voice.mp3'\n",
        "\n",
        "     tts.save(filename)\n",
        "\n",
        "    #  소리 재생할때\n",
        "    #  playsound.playsound(filename)\n",
        "\n",
        "\n",
        "\n",
        "speak(\"음성데이터와 문자데이터간 상호 교환 서비스 구현\")"
      ]
    },
    {
      "cell_type": "markdown",
      "metadata": {
        "id": "IjDnu0b7Ndmc"
      },
      "source": [
        "### STT\n"
      ]
    },
    {
      "cell_type": "code",
      "execution_count": null,
      "metadata": {
        "colab": {
          "base_uri": "https://localhost:8080/"
        },
        "id": "x5WlsLU7Nedt",
        "outputId": "6cec988e-c71a-4e68-8676-0b003957a28b"
      },
      "outputs": [
        {
          "output_type": "stream",
          "name": "stdout",
          "text": [
            "인식된 내용 : 안녕하세요 오늘도 멋진 하루 되세요\n"
          ]
        }
      ],
      "source": [
        "import speech_recognition as sr\n",
        "\n",
        "AUDIO_FILE = \"/content/hello.wav\"\n",
        "\n",
        "# audio file을 audio source로 사용합니다\n",
        "r = sr.Recognizer()\n",
        "with sr.AudioFile(AUDIO_FILE) as source:\n",
        "    audio = r.record(source)  # 전체 audio file 읽기\n",
        "\n",
        "# 구글 웹 음성 API로 인식하기 (하루에 제한 50회)\n",
        "try:\n",
        "    print(\"인식된 내용 : \" + r.recognize_google(audio, language='ko'))\n",
        "except sr.UnknownValueError:\n",
        "    print(\"인식 오류 입니다 \")\n",
        "except sr.RequestError as e:\n",
        "    print(\"Could not request results from Google Speech Recognition service; {0}\".format(e))\n",
        "\n",
        "# 결과\n",
        "# Google Speech Recognition thinks you said : 안녕하세요 오늘도 멋진 하루 되세요"
      ]
    },
    {
      "cell_type": "code",
      "execution_count": null,
      "metadata": {
        "colab": {
          "base_uri": "https://localhost:8080/"
        },
        "id": "5QTpt3ZfPv8P",
        "outputId": "af973af6-76a3-49e6-893c-02db04e09165"
      },
      "outputs": [
        {
          "output_type": "stream",
          "name": "stdout",
          "text": [
            "안녕하세요 오늘도 멋진 하루 되세요\n"
          ]
        }
      ],
      "source": [
        "import speech_recognition as sr\n",
        "\n",
        "AUDIO_FILE = \"/content/hello.wav\"\n",
        "\n",
        "\n",
        "# audio file을 audio source로 사용합니다\n",
        "r = sr.Recognizer()\n",
        "with sr.AudioFile(AUDIO_FILE) as source:\n",
        "    audio = r.record(source)  # 전체 audio file 읽기\n",
        "\n",
        "# 구글 웹 음성 API로 인식하기 (하루에 제한 50회)\n",
        "text =  r.recognize_google(audio, language='ko-KR')\n",
        "print(text)\n",
        "\n",
        "with open('/content/memo.txt', 'w') as f:\n",
        "  f.write(str(text)+'\\n')\n",
        "\n",
        "\n",
        "# 결과\n",
        "# Google Speech Recognition thinks you said : 안녕하세요 오늘도 멋진 하루 되세요"
      ]
    },
    {
      "cell_type": "markdown",
      "metadata": {
        "id": "RBgVTGfHR8Ex"
      },
      "source": [
        "## WAV 파일로 변환 할때\n",
        "### 파일(fortmat) 변환"
      ]
    },
    {
      "cell_type": "code",
      "execution_count": null,
      "metadata": {
        "colab": {
          "base_uri": "https://localhost:8080/"
        },
        "id": "WORiTw3iT5g1",
        "outputId": "0f2534e2-ed97-4d5d-972c-8a23541d56f7"
      },
      "outputs": [
        {
          "output_type": "stream",
          "name": "stdout",
          "text": [
            "Looking in indexes: https://pypi.org/simple, https://us-python.pkg.dev/colab-wheels/public/simple/\n",
            "Collecting pydub\n",
            "  Downloading pydub-0.25.1-py2.py3-none-any.whl (32 kB)\n",
            "Installing collected packages: pydub\n",
            "Successfully installed pydub-0.25.1\n"
          ]
        }
      ],
      "source": [
        "%pip install pydub"
      ]
    },
    {
      "cell_type": "code",
      "execution_count": null,
      "metadata": {
        "colab": {
          "base_uri": "https://localhost:8080/"
        },
        "id": "_xiLgvWTSAQy",
        "outputId": "a4db0b57-6493-4fcb-d9fd-5b4e0f318462"
      },
      "outputs": [
        {
          "output_type": "stream",
          "name": "stdout",
          "text": [
            "dir voice.mp3\n"
          ]
        }
      ],
      "source": [
        "import os\n",
        "import sys\n",
        "import pydub  # audio 파일을 수정\n",
        "\n",
        "def mp3ToWav(fromVoiceFile):\n",
        "        voiceFile = fromVoiceFile\n",
        "        name, ext = os.path.splitext(voiceFile) # 파일 이름 확장자 분리\n",
        "        dir = os.path.dirname('/content/voice.mp3')\n",
        "        os.chdir(dir)\n",
        "        print('dir',voiceFile)\n",
        "        mp3sound = pydub.AudioSegment.from_mp3(fromVoiceFile)\n",
        "        mp3sound.export(name+\".wav\", format=\"wav\") # mp3 -> wav파일로\n",
        "\n",
        "\n",
        "fromVoiceFile = 'voice.mp3'\n",
        "\n",
        "mp3ToWav(fromVoiceFile)"
      ]
    },
    {
      "cell_type": "code",
      "execution_count": null,
      "metadata": {
        "id": "5qlR9_67S0ET"
      },
      "outputs": [],
      "source": [
        "# m4asound = pydub.AudioSegment.from_file(fromVoiceFile,  format= 'm4a')\n",
        "# mp3sound = pydub.AudioSegment.from_mp3(fromVoiceFile)\n",
        "\n"
      ]
    }
  ],
  "metadata": {
    "colab": {
      "provenance": [],
      "gpuType": "T4"
    },
    "kernelspec": {
      "display_name": "Python 3",
      "name": "python3"
    },
    "language_info": {
      "name": "python"
    },
    "accelerator": "GPU"
  },
  "nbformat": 4,
  "nbformat_minor": 0
}